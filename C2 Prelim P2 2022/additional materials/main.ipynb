{
 "cells": [
  {
   "cell_type": "code",
   "execution_count": 12,
   "metadata": {},
   "outputs": [
    {
     "name": "stdout",
     "output_type": "stream",
     "text": [
      ". . . . . . . \n",
      "\n",
      ". . . . . . . \n",
      "\n",
      ". . . . . . . \n",
      "\n",
      ". . . . . . . \n",
      "\n",
      ". . . . . . . \n",
      "\n",
      ". . . . . . . \n",
      "\n",
      ". . . . . . . \n",
      "\n"
     ]
    }
   ],
   "source": [
    "# Task 1.1\n",
    "\n",
    "f = open('MINEFIELD.txt')\n",
    "content = f.read().split(\"\\n\")\n",
    "size = int(content[0])\n",
    "content = content[1:]\n",
    "\n",
    "grid = []\n",
    "for i in range(size):\n",
    "    grid.append([])\n",
    "    for j in range(size):\n",
    "        grid[i].append(\".\")\n",
    "\n",
    "def print_grid():\n",
    "    for i in range(size):\n",
    "        for j in range(size):\n",
    "            print(grid[i][j],end=\" \")\n",
    "        print(\"\\n\")\n",
    "\n",
    "print_grid()\n",
    "f.close()\n"
   ]
  },
  {
   "cell_type": "code",
   "execution_count": 19,
   "metadata": {},
   "outputs": [
    {
     "name": "stdout",
     "output_type": "stream",
     "text": [
      "UP DOWN LEFT DOWN UP LEFT DOWN RIGHT LEFT RIGHT RIGHT RIGHT RIGHT DOWN UP RIGHT\n",
      ". . M . . . . \n",
      "\n",
      ". . . M . . . \n",
      "\n",
      ". . . P P . M \n",
      "\n",
      ". P P P M . . \n",
      "\n",
      ". P P P P P . \n",
      "\n",
      ". . . M . P . \n",
      "\n",
      ". . . . . . . \n",
      "\n",
      "WIN! You walked to the boundary!\n"
     ]
    }
   ],
   "source": [
    "# Task 1.2\n",
    "\n",
    "# row and column of soldier\n",
    "soldierR = soldierC = size//2\n",
    "grid[soldierR][soldierC] = \"S\"\n",
    "\n",
    "for i in content:\n",
    "    tempX, tempY = i.split(\",\")\n",
    "    tempX = int(tempX)\n",
    "    tempY = int(tempY)\n",
    "    grid[tempX][tempY] = \"M\"\n",
    "\n",
    "playing = True\n",
    "steps = \"\"\n",
    "\n",
    "import random\n",
    "while playing:\n",
    "    movement = random.choice([\"UP\", \"DOWN\", \"LEFT\", \"RIGHT\"])\n",
    "    steps += movement + \" \"\n",
    "    if movement == \"UP\":\n",
    "        soldierR -= 1\n",
    "    elif movement == \"DOWN\":\n",
    "        soldierR += 1\n",
    "    elif movement == \"LEFT\":\n",
    "        soldierC -= 1\n",
    "    else:\n",
    "        soldierC += 1\n",
    "    \n",
    "    if grid[soldierR][soldierC] == \"M\":\n",
    "        print(steps.rstrip(\" \"))\n",
    "        print_grid()\n",
    "        print(\"LOSE! You stepped on a mine!\")\n",
    "        playing = False\n",
    "    else:\n",
    "        if soldierR == 0 or soldierR == size - 1 or soldierC == 0 or soldierC == size - 1:\n",
    "            print(steps.rstrip(\" \"))\n",
    "            print_grid()\n",
    "            print(\"WIN! You walked to the boundary!\")\n",
    "            playing = False\n",
    "        else:\n",
    "            grid[soldierR][soldierC] = \"P\""
   ]
  },
  {
   "cell_type": "code",
   "execution_count": 26,
   "metadata": {},
   "outputs": [
    {
     "name": "stdout",
     "output_type": "stream",
     "text": [
      "18\n",
      "[['White Fang', 'Jack London', '1906'], ['The Wind in the Willows', 'Kenneth Grahame', '1908'], ['Moby Dick', 'Herman Melville', '1851'], ['Jane Eyre', 'Charlotte Bronte', '1847'], ['The Picture of Dorian Gray', 'Oscar Wilde', '1890'], ['The Three Musketeers', 'Alexandre Dumas', '1844'], ['Persuasion', 'Jane Austen', '1817'], ['Dream of the Red Chamber', 'Cao Xueqin', '1791'], ['Little Women', 'Louisa May Alcott', '1868'], ['The Phantom of the Opera', 'Gaston Leroux', '1909'], ['Water Margin', 'Shi Naian', '1450'], ['A Christmas Carol', 'Charles Dickens', '1843'], ['One Hundred Years of Solitude', 'Gabriel Garcia Marquez', '1967'], ['Nineteen Eighty-Four', 'George Orwell', '1949'], ['Journey to the West', 'Wu Chengen', '1592'], ['Romance of the Three Kingdoms', 'Luo Guanzhong', '1522'], ['Fahrenheit 451', 'Ray Bradbury', '1953'], ['War and Peace', 'Leo Tolstoy', '1867']]\n"
     ]
    }
   ],
   "source": [
    "# Task 2.1\n",
    "\n",
    "def read_csv(filename):\n",
    "    f = open(filename)\n",
    "    content = f.read().split(\"\\n\")\n",
    "    arr = []\n",
    "    for i in content:\n",
    "        title, author, year = i.split(\",\")\n",
    "        temp = []\n",
    "        temp.append(title)\n",
    "        temp.append(author)\n",
    "        temp.append(year)\n",
    "        arr.append(temp)\n",
    "\n",
    "    f.close()\n",
    "    return arr\n",
    "    \n",
    "\n",
    "books_array = read_csv(\"booklist.csv\")\n",
    "print(len(books_array))\n",
    "print(books_array)"
   ]
  },
  {
   "cell_type": "code",
   "execution_count": 29,
   "metadata": {},
   "outputs": [
    {
     "name": "stdout",
     "output_type": "stream",
     "text": [
      "[['A Christmas Carol', 'Charles Dickens', '1843'], ['Dream of the Red Chamber', 'Cao Xueqin', '1791'], ['Fahrenheit 451', 'Ray Bradbury', '1953'], ['Jane Eyre', 'Charlotte Bronte', '1847'], ['Journey to the West', 'Wu Chengen', '1592'], ['Little Women', 'Louisa May Alcott', '1868'], ['Moby Dick', 'Herman Melville', '1851'], ['Nineteen Eighty-Four', 'George Orwell', '1949'], ['One Hundred Years of Solitude', 'Gabriel Garcia Marquez', '1967'], ['Persuasion', 'Jane Austen', '1817'], ['Romance of the Three Kingdoms', 'Luo Guanzhong', '1522'], ['The Phantom of the Opera', 'Gaston Leroux', '1909'], ['The Picture of Dorian Gray', 'Oscar Wilde', '1890'], ['The Three Musketeers', 'Alexandre Dumas', '1844'], ['The Wind in the Willows', 'Kenneth Grahame', '1908'], ['War and Peace', 'Leo Tolstoy', '1867'], ['Water Margin', 'Shi Naian', '1450'], ['White Fang', 'Jack London', '1906']]\n",
      "-1\n"
     ]
    }
   ],
   "source": [
    "# Task 2.2\n",
    "\n",
    "def bubble(array, sort_key):\n",
    "    if sort_key == \"title\":\n",
    "        index = 0 \n",
    "    elif sort_key == \"author\":\n",
    "        index = 1\n",
    "    elif sort_key == \"year\":\n",
    "        index = 2\n",
    "    else:\n",
    "        return -1\n",
    "\n",
    "    n = len(array)\n",
    "\n",
    "    for i in range(n):\n",
    "        swapped = False\n",
    "        for j in range(n - i - 1):\n",
    "            if array[j][index] > array[j+1][index]:\n",
    "                array[j], array[j+1] = array[j+1], array[j]\n",
    "                swapped = True\n",
    "        if not swapped:\n",
    "            break\n",
    "    return array\n",
    "\n",
    "print(bubble(books_array, \"title\"))\n",
    "print(bubble(books_array, \"ISBN\"))"
   ]
  },
  {
   "cell_type": "code",
   "execution_count": 30,
   "metadata": {},
   "outputs": [
    {
     "name": "stdout",
     "output_type": "stream",
     "text": [
      "[['The Three Musketeers', 'Alexandre Dumas', '1844'], ['Dream of the Red Chamber', 'Cao Xueqin', '1791'], ['A Christmas Carol', 'Charles Dickens', '1843'], ['Jane Eyre', 'Charlotte Bronte', '1847'], ['One Hundred Years of Solitude', 'Gabriel Garcia Marquez', '1967'], ['The Phantom of the Opera', 'Gaston Leroux', '1909'], ['Nineteen Eighty-Four', 'George Orwell', '1949'], ['Moby Dick', 'Herman Melville', '1851'], ['White Fang', 'Jack London', '1906'], ['Persuasion', 'Jane Austen', '1817'], ['The Wind in the Willows', 'Kenneth Grahame', '1908'], ['War and Peace', 'Leo Tolstoy', '1867'], ['Little Women', 'Louisa May Alcott', '1868'], ['Romance of the Three Kingdoms', 'Luo Guanzhong', '1522'], ['The Picture of Dorian Gray', 'Oscar Wilde', '1890'], ['Fahrenheit 451', 'Ray Bradbury', '1953'], ['Water Margin', 'Shi Naian', '1450'], ['Journey to the West', 'Wu Chengen', '1592']]\n",
      "[['Water Margin', 'Shi Naian', '1450'], ['Romance of the Three Kingdoms', 'Luo Guanzhong', '1522'], ['Journey to the West', 'Wu Chengen', '1592'], ['Dream of the Red Chamber', 'Cao Xueqin', '1791'], ['Persuasion', 'Jane Austen', '1817'], ['A Christmas Carol', 'Charles Dickens', '1843'], ['The Three Musketeers', 'Alexandre Dumas', '1844'], ['Jane Eyre', 'Charlotte Bronte', '1847'], ['Moby Dick', 'Herman Melville', '1851'], ['War and Peace', 'Leo Tolstoy', '1867'], ['Little Women', 'Louisa May Alcott', '1868'], ['The Picture of Dorian Gray', 'Oscar Wilde', '1890'], ['White Fang', 'Jack London', '1906'], ['The Wind in the Willows', 'Kenneth Grahame', '1908'], ['The Phantom of the Opera', 'Gaston Leroux', '1909'], ['Nineteen Eighty-Four', 'George Orwell', '1949'], ['Fahrenheit 451', 'Ray Bradbury', '1953'], ['One Hundred Years of Solitude', 'Gabriel Garcia Marquez', '1967']]\n"
     ]
    }
   ],
   "source": [
    "# Task 2.3\n",
    "\n",
    "def merge(array, sort_key):\n",
    "    if sort_key == \"title\":\n",
    "        index = 0 \n",
    "    elif sort_key == \"author\":\n",
    "        index = 1\n",
    "    elif sort_key == \"year\":\n",
    "        index = 2\n",
    "    else:\n",
    "        return -1\n",
    "\n",
    "    if len(array) <= 1:\n",
    "        return array\n",
    "\n",
    "    mid = len(array) // 2\n",
    "    left_half = array[:mid]\n",
    "    right_half = array[mid:]\n",
    "    left_half = merge(left_half, sort_key)\n",
    "    right_half = merge(right_half, sort_key)\n",
    "    return merge_helper(left_half, right_half, index)\n",
    "\n",
    "\n",
    "def merge_helper(left, right, index):\n",
    "    merged = []\n",
    "    left_index = 0\n",
    "    right_index = 0\n",
    "    while left_index < len(left) and right_index < len(right):\n",
    "        if left[left_index][index] <= right[right_index][index]:\n",
    "            merged.append(left[left_index])\n",
    "            left_index += 1\n",
    "        else:\n",
    "            merged.append(right[right_index])\n",
    "            right_index += 1\n",
    "    merged.extend(left[left_index:])\n",
    "    merged.extend(right[right_index:])\n",
    "\n",
    "    return merged\n",
    "\n",
    "print(merge(books_array, \"author\"))\n",
    "print(merge(books_array, \"year\"))"
   ]
  },
  {
   "cell_type": "code",
   "execution_count": 38,
   "metadata": {},
   "outputs": [
    {
     "name": "stdout",
     "output_type": "stream",
     "text": [
      "[4, 3, 5, 2, 1]\n",
      "[4, 6, 9, 1]\n"
     ]
    }
   ],
   "source": [
    "# Task 2.4\n",
    "\n",
    "def reverse(array):\n",
    "    n = len(array)\n",
    "    for i in range(n//2-1):\n",
    "        array[i], array[n - i - 1] = array[n - i - 1], array[i]\n",
    "\n",
    "    if n % 2 == 0:\n",
    "        array[n // 2 - 1], array[n // 2] = array[n // 2], array[n // 2 - 1]\n",
    "    return array\n",
    "\n",
    "print(reverse([1,3,5,2,4]))\n",
    "print(reverse([1,9,6,4]))"
   ]
  },
  {
   "cell_type": "code",
   "execution_count": 45,
   "metadata": {},
   "outputs": [],
   "source": [
    "# Task 2.5\n",
    "\n",
    "newbooks_array = read_csv(\"newbooks.csv\")\n",
    "sorted_array = bubble(newbooks_array, \"year\")\n",
    "reversed_sorted_array = reverse(sorted_array)\n",
    "\n",
    "import csv\n",
    "filename = \"task2point5.csv\"\n",
    "with open(filename, \"w\", newline='') as file:\n",
    "    for i in reversed_sorted_array:\n",
    "        for j in range(3):\n",
    "            file.write(i[j])\n",
    "            if j != 2:\n",
    "                file.write(\",\")\n",
    "        file.write(\"\\n\")\n",
    "\n",
    "    # file closed"
   ]
  },
  {
   "cell_type": "code",
   "execution_count": 47,
   "metadata": {},
   "outputs": [
    {
     "name": "stdout",
     "output_type": "stream",
     "text": [
      "inserts: apple, carrot, banana\n",
      "search 'carrot': True\n",
      "search 'pear': False\n"
     ]
    }
   ],
   "source": [
    "# Task 3.1\n",
    "\n",
    "class Node:\n",
    "    def __init__(self, word):\n",
    "        self.word = word\n",
    "        self.next = None\n",
    "\n",
    "class LinkedList:\n",
    "    def __init__(self):\n",
    "        self.head = None\n",
    "        self.size = 0\n",
    "\n",
    "    def insert(self, word, p):\n",
    "        new_node = Node(word)\n",
    "        if p <= 0 or not self.head:\n",
    "            new_node.next = self.head\n",
    "            self.head = new_node\n",
    "        elif p >= self.size:\n",
    "            current = self.head\n",
    "            while current.next:\n",
    "                current = current.next\n",
    "            current.next = new_node\n",
    "        else:\n",
    "            current = self.head\n",
    "            for _ in range(p - 1):\n",
    "                current = current.next\n",
    "            new_node.next = current.next\n",
    "            current.next = new_node\n",
    "        self.size += 1\n",
    "\n",
    "    def delete(self, p):\n",
    "        if self.size == 0:\n",
    "            return\n",
    "        if p <= 0:\n",
    "            self.head = self.head.next\n",
    "        elif p >= self.size - 1:\n",
    "            current = self.head\n",
    "            for _ in range(self.size - 2):\n",
    "                current = current.next\n",
    "            current.next = None\n",
    "        else:\n",
    "            current = self.head\n",
    "            for _ in range(p - 1):\n",
    "                current = current.next\n",
    "            current.next = current.next.next\n",
    "        self.size -= 1\n",
    "\n",
    "    def search(self, word):\n",
    "        current = self.head\n",
    "        while current:\n",
    "            if current.word == word:\n",
    "                return True\n",
    "            current = current.next\n",
    "        return False\n",
    "\n",
    "    def to_String(self):\n",
    "        current = self.head\n",
    "        elements = []\n",
    "        while current:\n",
    "            elements.append(current.word)\n",
    "            current = current.next\n",
    "        return \", \".join(elements)\n",
    "\n",
    "ll = LinkedList()\n",
    "ll.insert(\"apple\", 0)\n",
    "ll.insert(\"banana\", 1)\n",
    "ll.insert(\"carrot\", 1)\n",
    "print(\"inserts:\", ll.to_String())\n",
    "\n",
    "print(\"search 'carrot':\", ll.search(\"carrot\"))\n",
    "print(\"search 'pear':\", ll.search(\"pear\"))\n"
   ]
  },
  {
   "cell_type": "code",
   "execution_count": 49,
   "metadata": {},
   "outputs": [
    {
     "name": "stdout",
     "output_type": "stream",
     "text": [
      "stack elements: pear, apple\n"
     ]
    }
   ],
   "source": [
    "# Task 3.2\n",
    "\n",
    "class Stack(LinkedList):\n",
    "    def push(self, word):\n",
    "        self.insert(word, 0)\n",
    "\n",
    "    def pop(self):\n",
    "        self.delete(0)\n",
    "\n",
    "stack = Stack()\n",
    "stack.push(\"apple\")\n",
    "stack.push(\"pear\")\n",
    "stack.push(\"carrot\")\n",
    "stack.pop()\n",
    "\n",
    "print(\"stack elements:\", stack.to_String())\n"
   ]
  },
  {
   "cell_type": "code",
   "execution_count": 50,
   "metadata": {},
   "outputs": [
    {
     "name": "stdout",
     "output_type": "stream",
     "text": [
      "queue elements: pear, carrot\n"
     ]
    }
   ],
   "source": [
    "# Task 3.3\n",
    "\n",
    "class Queue(LinkedList):\n",
    "    def enqueue(self, word):\n",
    "        self.insert(word, self.size)\n",
    "\n",
    "    def dequeue(self):\n",
    "        self.delete(0)\n",
    "\n",
    "queue = Queue()\n",
    "queue.enqueue(\"apple\")\n",
    "queue.enqueue(\"pear\")\n",
    "queue.enqueue(\"carrot\")\n",
    "queue.dequeue()\n",
    "\n",
    "print(\"queue elements:\", queue.to_String())\n"
   ]
  },
  {
   "cell_type": "code",
   "execution_count": null,
   "metadata": {},
   "outputs": [],
   "source": [
    "# Task 4.1\n",
    "\n"
   ]
  }
 ],
 "metadata": {
  "kernelspec": {
   "display_name": "Python 3",
   "language": "python",
   "name": "python3"
  },
  "language_info": {
   "codemirror_mode": {
    "name": "ipython",
    "version": 3
   },
   "file_extension": ".py",
   "mimetype": "text/x-python",
   "name": "python",
   "nbconvert_exporter": "python",
   "pygments_lexer": "ipython3",
   "version": "3.12.9"
  },
  "orig_nbformat": 4,
  "vscode": {
   "interpreter": {
    "hash": "f1062708a37074d70712b695aadee582e0b0b9f95f45576b5521424137d05fec"
   }
  }
 },
 "nbformat": 4,
 "nbformat_minor": 2
}
